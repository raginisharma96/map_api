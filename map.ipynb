{
 "cells": [
  {
   "cell_type": "code",
   "execution_count": 1,
   "metadata": {},
   "outputs": [],
   "source": [
    "import pandas as pd\n",
    "import json\n",
    "import pickle as pkl"
   ]
  },
  {
   "cell_type": "code",
   "execution_count": 2,
   "metadata": {},
   "outputs": [],
   "source": [
    "with open(\"map.geojson\",\"r\") as f:\n",
    "    data = json.load(f)"
   ]
  },
  {
   "cell_type": "code",
   "execution_count": 54,
   "metadata": {
    "collapsed": true,
    "jupyter": {
     "outputs_hidden": true
    }
   },
   "outputs": [
    {
     "data": {
      "text/plain": [
       "[[[77.05505847930908, 28.524246963021376],\n",
       "  [77.0485782623291, 28.52115501996474],\n",
       "  [77.04347133636475, 28.52405843250429],\n",
       "  [77.04334259033203, 28.525038787511374],\n",
       "  [77.0416259765625, 28.52616995503673],\n",
       "  [77.03896522521973, 28.527414225294702],\n",
       "  [77.03205585479736, 28.531109244330963],\n",
       "  [77.02476024627684, 28.53265508120663],\n",
       "  [77.02205657958984, 28.534050085263765],\n",
       "  [77.01840877532959, 28.536840037975676],\n",
       "  [77.01634883880615, 28.539215209769342],\n",
       "  [77.01347351074219, 28.540346225136783],\n",
       "  [77.00531959533691, 28.53947911444112],\n",
       "  [77.0017147064209, 28.533296031309874],\n",
       "  [77.00141429901122, 28.530883022398445],\n",
       "  [77.00840950012207, 28.527074880317347],\n",
       "  [77.01064109802246, 28.52567978393273],\n",
       "  [77.01458930969238, 28.524435493201324],\n",
       "  [77.016863822937, 28.521117312782412],\n",
       "  [77.01025485992432, 28.51466918629717],\n",
       "  [77.00347423553467, 28.516856314323167],\n",
       "  [76.99682235717772, 28.519722137556652],\n",
       "  [76.9953203201294, 28.51704485771888],\n",
       "  [76.9945478439331, 28.517572777433514],\n",
       "  [76.99081420898438, 28.513500185475525],\n",
       "  [76.97811126708984, 28.521192727133563],\n",
       "  [76.97502136230469, 28.51862860893376],\n",
       "  [76.9647216796875, 28.512896825142963],\n",
       "  [76.95322036743164, 28.505354529765714],\n",
       "  [76.94292068481445, 28.50580708269566],\n",
       "  [76.93502426147461, 28.51097359104727],\n",
       "  [76.92781448364258, 28.510785036797373],\n",
       "  [76.9207763671875, 28.50686303198279],\n",
       "  [76.91545486450195, 28.511388409210596],\n",
       "  [76.91030502319336, 28.51259514368231],\n",
       "  [76.90704345703124, 28.513500185475525],\n",
       "  [76.90223693847656, 28.50686303198279],\n",
       "  [76.89674377441406, 28.506561333264955],\n",
       "  [76.89210891723633, 28.500979751364326],\n",
       "  [76.88575744628906, 28.501356894577825],\n",
       "  [76.88301086425781, 28.4934366040408],\n",
       "  [76.8552017211914, 28.47231292388337],\n",
       "  [76.86241149902344, 28.436392973656965],\n",
       "  [76.86756134033202, 28.40408478754051],\n",
       "  [76.86824798583983, 28.382339152322746],\n",
       "  [76.87854766845703, 28.35515083653415],\n",
       "  [76.88678741455078, 28.327955556164437],\n",
       "  [76.90910339355469, 28.30558977794923],\n",
       "  [76.95098876953125, 28.278684166612884],\n",
       "  [76.98738098144531, 28.279591208078358],\n",
       "  [77.14187622070312, 28.327804451828083],\n",
       "  [77.14136123657227, 28.35243162183171],\n",
       "  [77.14101791381836, 28.388833107785594],\n",
       "  [77.17243194580078, 28.405594735421133],\n",
       "  [77.17002868652344, 28.411030369596805],\n",
       "  [77.16796875, 28.413295134846067],\n",
       "  [77.16419219970702, 28.414804951440466],\n",
       "  [77.16586589813232, 28.421863058471775],\n",
       "  [77.15972900390625, 28.43050576788437],\n",
       "  [77.15616703033447, 28.431373773935793],\n",
       "  [77.15178966522217, 28.434770250918202],\n",
       "  [77.1491289138794, 28.43658166073238],\n",
       "  [77.14694023132324, 28.436657135468323],\n",
       "  [77.14256286621094, 28.435675959701623],\n",
       "  [77.1344518661499, 28.439600608174604],\n",
       "  [77.12741374969482, 28.443110026291144],\n",
       "  [77.12638378143309, 28.44601558544193],\n",
       "  [77.12239265441895, 28.455335476723302],\n",
       "  [77.12097644805908, 28.457787943158696],\n",
       "  [77.1199893951416, 28.460202623752465],\n",
       "  [77.11655616760254, 28.467031343699137],\n",
       "  [77.11235046386719, 28.473180586806475],\n",
       "  [77.1141529083252, 28.47363327767657],\n",
       "  [77.11458206176758, 28.477481071749267],\n",
       "  [77.11522579193115, 28.482120872295056],\n",
       "  [77.1176826953888, 28.487005645265157],\n",
       "  [77.11947441101073, 28.495020709699137],\n",
       "  [77.11569786071777, 28.49675565528421],\n",
       "  [77.11217880249023, 28.498377426453633],\n",
       "  [77.10514068603516, 28.501583179858873],\n",
       "  [77.10352063179015, 28.502540172660815],\n",
       "  [77.0979630947113, 28.50493497375287],\n",
       "  [77.09583342075348, 28.507023309075684],\n",
       "  [77.0989179611206, 28.511501541153837],\n",
       "  [77.09458351135254, 28.51353789538169],\n",
       "  [77.08969116210938, 28.515310245762567],\n",
       "  [77.08012104034424, 28.518176111013922],\n",
       "  [77.07471370697021, 28.518854857165522],\n",
       "  [77.07226753234863, 28.520250043867282],\n",
       "  [77.07170963287354, 28.518817149160622],\n",
       "  [77.0676326751709, 28.521343555673994],\n",
       "  [77.06355571746825, 28.523869901650016],\n",
       "  [77.05505847930908, 28.524246963021376]]]"
      ]
     },
     "execution_count": 54,
     "metadata": {},
     "output_type": "execute_result"
    }
   ],
   "source": [
    "data['features'][0]['geometry'][\"coordinates\"]"
   ]
  },
  {
   "cell_type": "code",
   "execution_count": 16,
   "metadata": {
    "collapsed": true,
    "jupyter": {
     "outputs_hidden": true
    }
   },
   "outputs": [
    {
     "data": {
      "text/plain": [
       "[[[77.05505847930908, 28.524246963021376],\n",
       "  [77.0485782623291, 28.52115501996474],\n",
       "  [77.04347133636475, 28.52405843250429],\n",
       "  [77.04334259033203, 28.525038787511374],\n",
       "  [77.0416259765625, 28.52616995503673],\n",
       "  [77.03896522521973, 28.527414225294702],\n",
       "  [77.03205585479736, 28.531109244330963],\n",
       "  [77.02476024627684, 28.53265508120663],\n",
       "  [77.02205657958984, 28.534050085263765],\n",
       "  [77.01840877532959, 28.536840037975676],\n",
       "  [77.01634883880615, 28.539215209769342],\n",
       "  [77.01347351074219, 28.540346225136783],\n",
       "  [77.00531959533691, 28.53947911444112],\n",
       "  [77.0017147064209, 28.533296031309874],\n",
       "  [77.00141429901122, 28.530883022398445],\n",
       "  [77.00840950012207, 28.527074880317347],\n",
       "  [77.01064109802246, 28.52567978393273],\n",
       "  [77.01458930969238, 28.524435493201324],\n",
       "  [77.016863822937, 28.521117312782412],\n",
       "  [77.01025485992432, 28.51466918629717],\n",
       "  [77.00347423553467, 28.516856314323167],\n",
       "  [76.99682235717772, 28.519722137556652],\n",
       "  [76.9953203201294, 28.51704485771888],\n",
       "  [76.9945478439331, 28.517572777433514],\n",
       "  [76.99081420898438, 28.513500185475525],\n",
       "  [76.97811126708984, 28.521192727133563],\n",
       "  [76.97502136230469, 28.51862860893376],\n",
       "  [76.9647216796875, 28.512896825142963],\n",
       "  [76.95322036743164, 28.505354529765714],\n",
       "  [76.94292068481445, 28.50580708269566],\n",
       "  [76.93502426147461, 28.51097359104727],\n",
       "  [76.92781448364258, 28.510785036797373],\n",
       "  [76.9207763671875, 28.50686303198279],\n",
       "  [76.91545486450195, 28.511388409210596],\n",
       "  [76.91030502319336, 28.51259514368231],\n",
       "  [76.90704345703124, 28.513500185475525],\n",
       "  [76.90223693847656, 28.50686303198279],\n",
       "  [76.89674377441406, 28.506561333264955],\n",
       "  [76.89210891723633, 28.500979751364326],\n",
       "  [76.88575744628906, 28.501356894577825],\n",
       "  [76.88301086425781, 28.4934366040408],\n",
       "  [76.8552017211914, 28.47231292388337],\n",
       "  [76.86241149902344, 28.436392973656965],\n",
       "  [76.86756134033202, 28.40408478754051],\n",
       "  [76.86824798583983, 28.382339152322746],\n",
       "  [76.87854766845703, 28.35515083653415],\n",
       "  [76.88678741455078, 28.327955556164437],\n",
       "  [76.90910339355469, 28.30558977794923],\n",
       "  [76.95098876953125, 28.278684166612884],\n",
       "  [76.98738098144531, 28.279591208078358],\n",
       "  [77.14187622070312, 28.327804451828083],\n",
       "  [77.14136123657227, 28.35243162183171],\n",
       "  [77.14101791381836, 28.388833107785594],\n",
       "  [77.17243194580078, 28.405594735421133],\n",
       "  [77.17002868652344, 28.411030369596805],\n",
       "  [77.16796875, 28.413295134846067],\n",
       "  [77.16419219970702, 28.414804951440466],\n",
       "  [77.16586589813232, 28.421863058471775],\n",
       "  [77.15972900390625, 28.43050576788437],\n",
       "  [77.15616703033447, 28.431373773935793],\n",
       "  [77.15178966522217, 28.434770250918202],\n",
       "  [77.1491289138794, 28.43658166073238],\n",
       "  [77.14694023132324, 28.436657135468323],\n",
       "  [77.14256286621094, 28.435675959701623],\n",
       "  [77.1344518661499, 28.439600608174604],\n",
       "  [77.12741374969482, 28.443110026291144],\n",
       "  [77.12638378143309, 28.44601558544193],\n",
       "  [77.12239265441895, 28.455335476723302],\n",
       "  [77.12097644805908, 28.457787943158696],\n",
       "  [77.1199893951416, 28.460202623752465],\n",
       "  [77.11655616760254, 28.467031343699137],\n",
       "  [77.11235046386719, 28.473180586806475],\n",
       "  [77.1141529083252, 28.47363327767657],\n",
       "  [77.11458206176758, 28.477481071749267],\n",
       "  [77.11522579193115, 28.482120872295056],\n",
       "  [77.1176826953888, 28.487005645265157],\n",
       "  [77.11947441101073, 28.495020709699137],\n",
       "  [77.11569786071777, 28.49675565528421],\n",
       "  [77.11217880249023, 28.498377426453633],\n",
       "  [77.10514068603516, 28.501583179858873],\n",
       "  [77.10352063179015, 28.502540172660815],\n",
       "  [77.0979630947113, 28.50493497375287],\n",
       "  [77.09583342075348, 28.507023309075684],\n",
       "  [77.0989179611206, 28.511501541153837],\n",
       "  [77.09458351135254, 28.51353789538169],\n",
       "  [77.08969116210938, 28.515310245762567],\n",
       "  [77.08012104034424, 28.518176111013922],\n",
       "  [77.07471370697021, 28.518854857165522],\n",
       "  [77.07226753234863, 28.520250043867282],\n",
       "  [77.07170963287354, 28.518817149160622],\n",
       "  [77.0676326751709, 28.521343555673994],\n",
       "  [77.06355571746825, 28.523869901650016],\n",
       "  [77.05505847930908, 28.524246963021376]]]"
      ]
     },
     "execution_count": 16,
     "metadata": {},
     "output_type": "execute_result"
    }
   ],
   "source": [
    "data[\"features\"][0]['geometry']['coordinates']"
   ]
  },
  {
   "cell_type": "code",
   "execution_count": 3,
   "metadata": {},
   "outputs": [
    {
     "name": "stdout",
     "output_type": "stream",
     "text": [
      "Gurgaon\n",
      "Faridabad\n",
      "Ghaziabad\n",
      "Noida\n",
      "Greater Noida\n",
      "South Delhi\n",
      "South West Delhi\n",
      "West Delhi\n",
      "North West Delhi\n",
      "North Delhi\n",
      "North East Delhi\n",
      "East Delhi\n",
      "Central Delhi\n",
      "Mumbai\n",
      "Elephanta Island\n",
      "Butcher Island\n",
      "Cross Island Battery\n",
      "Dolphin Rock\n",
      "Oyster Rock\n",
      "Sunk Rock\n",
      "Thane\n"
     ]
    }
   ],
   "source": [
    "for i in range(len(data['features'])):\n",
    "    print(data[\"features\"][i][\"properties\"][\"name\"])"
   ]
  },
  {
   "cell_type": "code",
   "execution_count": 8,
   "metadata": {},
   "outputs": [],
   "source": [
    "d = {}"
   ]
  },
  {
   "cell_type": "code",
   "execution_count": 9,
   "metadata": {},
   "outputs": [],
   "source": [
    "for i in range(len(data['features'])):\n",
    "    d[data[\"features\"][i][\"properties\"][\"name\"]] = data[\"features\"][i]['geometry']['coordinates']"
   ]
  },
  {
   "cell_type": "code",
   "execution_count": 6,
   "metadata": {},
   "outputs": [],
   "source": [
    "for i in d:\n",
    "    d[i] = d[i][0]"
   ]
  },
  {
   "cell_type": "code",
   "execution_count": 10,
   "metadata": {},
   "outputs": [],
   "source": [
    "df = pd.DataFrame.from_dict(d)"
   ]
  },
  {
   "cell_type": "code",
   "execution_count": 11,
   "metadata": {},
   "outputs": [
    {
     "data": {
      "text/plain": [
       "Index(['Gurgaon', 'Faridabad', 'Ghaziabad', 'Noida', 'Greater Noida',\n",
       "       'South Delhi', 'South West Delhi', 'West Delhi', 'North West Delhi',\n",
       "       'North Delhi', 'North East Delhi', 'East Delhi', 'Central Delhi',\n",
       "       'Mumbai', 'Elephanta Island', 'Butcher Island', 'Cross Island Battery',\n",
       "       'Dolphin Rock', 'Oyster Rock', 'Sunk Rock', 'Thane'],\n",
       "      dtype='object')"
      ]
     },
     "execution_count": 11,
     "metadata": {},
     "output_type": "execute_result"
    }
   ],
   "source": [
    "df.columns\n"
   ]
  },
  {
   "cell_type": "code",
   "execution_count": 12,
   "metadata": {},
   "outputs": [
    {
     "data": {
      "text/plain": [
       "[77.05505847930908, 28.524246963021376]"
      ]
     },
     "execution_count": 12,
     "metadata": {},
     "output_type": "execute_result"
    }
   ],
   "source": [
    "df[\"Gurgaon\"].values[0][0]"
   ]
  },
  {
   "cell_type": "code",
   "execution_count": 56,
   "metadata": {},
   "outputs": [],
   "source": [
    "with open(\"data.pkl\",\"wb\") as f:\n",
    "    pkl.dump(df,f)"
   ]
  },
  {
   "cell_type": "code",
   "execution_count": 13,
   "metadata": {},
   "outputs": [
    {
     "data": {
      "text/plain": [
       "[77.05505847930908, 28.524246963021376]"
      ]
     },
     "execution_count": 13,
     "metadata": {},
     "output_type": "execute_result"
    }
   ],
   "source": [
    "df[\"Gurgaon\"].values[0][0]"
   ]
  },
  {
   "cell_type": "code",
   "execution_count": null,
   "metadata": {},
   "outputs": [],
   "source": []
  },
  {
   "cell_type": "code",
   "execution_count": 15,
   "metadata": {},
   "outputs": [],
   "source": [
    "from shapely.geometry import Point\n",
    "from shapely.geometry.polygon import Polygon\n",
    "def check(log=77.0266,lat=28.4595):\n",
    "    # lons_lats_vect = np.column_stack((lons_vect, lats_vect))\n",
    "    polygon = Polygon(df[\"North East Delhi\"].values[0])# create polygon\n",
    "    # point = Point(77.05505847930908, 28.524246963021376) # create point\n",
    "    point = Point(log,lat)\n",
    "    print(polygon.contains(point)) # check if polygon contains point\n",
    "    print(point.within(polygon)) # check if a point is in the polygon "
   ]
  },
  {
   "cell_type": "code",
   "execution_count": 20,
   "metadata": {},
   "outputs": [],
   "source": [
    "def check1(long=77.0266,lat=28.4595):\n",
    "    flag = 'null'\n",
    "    with open(\"data.pkl\",\"rb\") as f:\n",
    "        df = pkl.load(f)\n",
    "    for place in df.columns:\n",
    "        polygon = Polygon(df[place].values[0]) # create polygon\n",
    "        point = Point(long,lat) # create point\n",
    "#         print(point.within(polygon))\n",
    "        if(point.within(polygon)):\n",
    "            flag = place\n",
    "    if flag != 'null':\n",
    "        return flag\n",
    "    else:\n",
    "        return 'No place found'\n",
    "    "
   ]
  },
  {
   "cell_type": "code",
   "execution_count": 21,
   "metadata": {},
   "outputs": [
    {
     "data": {
      "text/plain": [
       "'Gurgaon'"
      ]
     },
     "execution_count": 21,
     "metadata": {},
     "output_type": "execute_result"
    }
   ],
   "source": [
    "check1()"
   ]
  },
  {
   "cell_type": "markdown",
   "metadata": {},
   "source": [
    "# Radius 5km"
   ]
  },
  {
   "cell_type": "code",
   "execution_count": 44,
   "metadata": {},
   "outputs": [
    {
     "name": "stderr",
     "output_type": "stream",
     "text": [
      "/home/mayank/anaconda3/lib/python3.7/site-packages/ipykernel_launcher.py:29: DeprecationWarning: Using Nominatim with the default \"geopy/1.20.0\" `user_agent` is strongly discouraged, as it violates Nominatim's ToS https://operations.osmfoundation.org/policies/nominatim/ and may possibly cause 403 and 429 HTTP errors. Please specify a custom `user_agent` with `Nominatim(user_agent=\"my-application\")` or by overriding the default `user_agent`: `geopy.geocoders.options.default_user_agent = \"my-application\"`. In geopy 2.0 this will become an exception.\n"
     ]
    },
    {
     "name": "stdout",
     "output_type": "stream",
     "text": [
      "2242\n",
      "110071\n",
      "2242\n",
      "2242\n",
      "2242\n",
      "2242\n",
      "2242\n",
      "122017\n",
      "122017\n",
      "122017\n",
      "122016\n",
      "122016\n",
      "122016\n",
      "122016\n",
      "122016\n",
      "122016\n",
      "122016\n",
      "122016\n",
      "122016\n",
      "122010\n",
      "122010\n",
      "122010\n",
      "122010\n"
     ]
    }
   ],
   "source": [
    "from math import radians, cos, sin, asin, sqrt\n",
    "\n",
    "def haversine(lon1, lat1, lon2, lat2):\n",
    "    \"\"\"\n",
    "    Calculate the great circle distance between two points \n",
    "    on the earth (specified in decimal degrees)\n",
    "    \"\"\"\n",
    "    # convert decimal degrees to radians \n",
    "    lon1, lat1, lon2, lat2 = map(radians, [lon1, lat1, lon2, lat2])\n",
    "\n",
    "    # haversine formula \n",
    "    dlon = lon2 - lon1 \n",
    "    dlat = lat2 - lat1 \n",
    "    a = sin(dlat/2)**2 + cos(lat1) * cos(lat2) * sin(dlon/2)**2\n",
    "    c = 2 * asin(sqrt(a)) \n",
    "    r = 6371 # Radius of earth in kilometers. Use 3956 for miles\n",
    "    return c * r\n",
    "\n",
    "# long=77.0266\n",
    "# lat=28.4595\n",
    "long, lat = [77.0676326751709, 28.521343555673994]\n",
    "city_belong = check1(long,lat)\n",
    "with open(\"data.pkl\",\"rb\") as f:\n",
    "        df = pkl.load(f)\n",
    "\n",
    "if city_belong != 'No place found':\n",
    "    test_point = df[city_belong][0]\n",
    "#     print(city_belong,test_point)\n",
    "    geolocator = Nominatim()\n",
    "    \n",
    "    for i in test_point:\n",
    "        a=haversine(long,lat,i[0],i[1])\n",
    "#         print('Distance (km):',a)\n",
    "        if a<= 5:\n",
    "            location  = geolocator.reverse([i[1],i[0]])\n",
    "            if location != None:\n",
    "                print(location.raw['address']['postcode'])\n",
    "            \n",
    "\n",
    "    \n",
    "# center_point = [{'lat': -7.7940023, 'lng': 110.3656535}]\n",
    "# test_point = [{'lat': -7.79457, 'lng': 110.36563}]\n",
    "\n",
    "# lat1 = center_point[0]['lat']\n",
    "# lon1 = center_point[0]['lng']\n",
    "# lat2 = test_point[0]['lat']\n",
    "# lon2 = test_point[0]['lng']\n",
    "\n",
    "# radius = 5.00 # in kilometer\n",
    "\n",
    "# a = haversine(lon1, lat1, lon2, lat2)\n",
    "\n",
    "# print('Distance (km) : ', a)\n",
    "# if a <= radius:\n",
    "#     print('Inside the area')\n",
    "# else:\n",
    "#     print('Outside the area')"
   ]
  },
  {
   "cell_type": "code",
   "execution_count": 27,
   "metadata": {},
   "outputs": [
    {
     "name": "stderr",
     "output_type": "stream",
     "text": [
      "/home/mayank/anaconda3/lib/python3.7/site-packages/ipykernel_launcher.py:2: DeprecationWarning: Using Nominatim with the default \"geopy/1.20.0\" `user_agent` is strongly discouraged, as it violates Nominatim's ToS https://operations.osmfoundation.org/policies/nominatim/ and may possibly cause 403 and 429 HTTP errors. Please specify a custom `user_agent` with `Nominatim(user_agent=\"my-application\")` or by overriding the default `user_agent`: `geopy.geocoders.options.default_user_agent = \"my-application\"`. In geopy 2.0 this will become an exception.\n",
      "  \n"
     ]
    }
   ],
   "source": [
    "from geopy.geocoders import Nominatim\n",
    "geolocator = Nominatim()\n",
    "location = geolocator.geocode(\"175 5th Avenue NYC\")"
   ]
  },
  {
   "cell_type": "code",
   "execution_count": 28,
   "metadata": {},
   "outputs": [],
   "source": [
    "location  = geolocator.reverse([28.521343555673994,77.0676326751709])"
   ]
  },
  {
   "cell_type": "code",
   "execution_count": 38,
   "metadata": {},
   "outputs": [],
   "source": [
    "dd=location.raw"
   ]
  },
  {
   "cell_type": "code",
   "execution_count": 42,
   "metadata": {},
   "outputs": [
    {
     "data": {
      "text/plain": [
       "'122016'"
      ]
     },
     "execution_count": 42,
     "metadata": {},
     "output_type": "execute_result"
    }
   ],
   "source": [
    "dd['address']['postcode']"
   ]
  },
  {
   "cell_type": "code",
   "execution_count": null,
   "metadata": {},
   "outputs": [],
   "source": []
  }
 ],
 "metadata": {
  "kernelspec": {
   "display_name": "Python 3",
   "language": "python",
   "name": "python3"
  },
  "language_info": {
   "codemirror_mode": {
    "name": "ipython",
    "version": 3
   },
   "file_extension": ".py",
   "mimetype": "text/x-python",
   "name": "python",
   "nbconvert_exporter": "python",
   "pygments_lexer": "ipython3",
   "version": "3.7.3"
  }
 },
 "nbformat": 4,
 "nbformat_minor": 4
}
